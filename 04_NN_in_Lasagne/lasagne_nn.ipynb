{
 "cells": [
  {
   "cell_type": "markdown",
   "metadata": {},
   "source": [
    "# Our First Lasagne NeuralNet"
   ]
  },
  {
   "cell_type": "markdown",
   "metadata": {},
   "source": [
    "Now that we're familiar with Theano, we're ready to use Lasagne, a library that abstracts out a bit of the internal math required for different kinds of Neural Network layers. This notebook borrows heavily from [Colin Raffel's tutorial](https://github.com/craffel/Lasagne-tutorial/blob/master/examples/tutorial.ipynb), and we really recommend reading through his full tutorial if you want to explore the full functionality of Lasagne."
   ]
  },
  {
   "cell_type": "code",
   "execution_count": 1,
   "metadata": {
    "collapsed": false
   },
   "outputs": [
    {
     "name": "stderr",
     "output_type": "stream",
     "text": [
      "/usr/local/lib/python2.7/dist-packages/theano/tensor/signal/downsample.py:6: UserWarning: downsample module has been moved to the theano.tensor.signal.pool module.\n",
      "  \"downsample module has been moved to the theano.tensor.signal.pool module.\")\n"
     ]
    }
   ],
   "source": [
    "import theano\n",
    "import theano.tensor as T\n",
    "import lasagne\n",
    "import numpy as np\n",
    "import sklearn.datasets\n",
    "from __future__ import print_function\n",
    "import os\n",
    "import matplotlib.pyplot as plt\n",
    "%matplotlib inline\n",
    "import IPython.display"
   ]
  },
  {
   "cell_type": "markdown",
   "metadata": {},
   "source": [
    "For this application, we're going to do a classification problem. Every NN we've done so far has been a regressor. Using NNs for classification is similar. Let's say you have two possible classes, \"cat\" and \"dog\". Then, you have one output neuron for each of the class possibilities. These neuron's activation functions are the softmax function, which essentially assigns a probability to each class label. The more active a neuron, the more confident our network is in the classification."
   ]
  },
  {
   "cell_type": "code",
   "execution_count": 2,
   "metadata": {
    "collapsed": false
   },
   "outputs": [
    {
     "data": {
      "text/plain": [
       "<matplotlib.collections.PathCollection at 0x7f97f2606b50>"
      ]
     },
     "execution_count": 2,
     "metadata": {},
     "output_type": "execute_result"
    },
    {
     "name": "stderr",
     "output_type": "stream",
     "text": [
      "/usr/local/lib/python2.7/dist-packages/matplotlib/collections.py:590: FutureWarning: elementwise comparison failed; returning scalar instead, but in the future will perform elementwise comparison\n",
      "  if self._edgecolors == str('face'):\n"
     ]
    },
    {
     "data": {
      "image/png": "[encoded data removed]",
      "text/plain": [
       "<matplotlib.figure.Figure at 0x7f981c1df610>"
      ]
     },
     "metadata": {},
     "output_type": "display_data"
    }
   ],
   "source": [
    "# Generate synthetic data\n",
    "N_CLASSES = 4\n",
    "X, y = sklearn.datasets.make_classification(\n",
    "    n_features=2, n_redundant=0,\n",
    "    n_classes=N_CLASSES, n_clusters_per_class=1)\n",
    "# Convert to theano floatX\n",
    "X = X.astype(theano.config.floatX)\n",
    "# Labels should be ints\n",
    "y = y.astype('int32')\n",
    "# Make a scatter plot where color encodes class\n",
    "plt.scatter(X[:, 0], X[:, 1], c=y)"
   ]
  },
  {
   "cell_type": "markdown",
   "metadata": {},
   "source": [
    "We start with an input layer, which has as many neurons as features in the dataset. Same old."
   ]
  },
  {
   "cell_type": "code",
   "execution_count": 3,
   "metadata": {
    "collapsed": false
   },
   "outputs": [],
   "source": [
    "l_in = lasagne.layers.InputLayer(shape=X.shape)"
   ]
  },
  {
   "cell_type": "markdown",
   "metadata": {},
   "source": [
    "We'll have a hidden layer with 10 neurons, and then an output layer with 4 neurons, since there are 4 classes."
   ]
  },
  {
   "cell_type": "code",
   "execution_count": 4,
   "metadata": {
    "collapsed": true
   },
   "outputs": [],
   "source": [
    "# We'll create a network with two dense layers: A tanh hidden layer and a softmax output layer.\n",
    "l_hidden = lasagne.layers.DenseLayer(l_in, num_units=10, nonlinearity=lasagne.nonlinearities.tanh)\n",
    "# For our output layer, we'll use a dense layer with a softmax nonlinearity.\n",
    "l_output = lasagne.layers.DenseLayer(\n",
    "    l_hidden, num_units=N_CLASSES, nonlinearity=lasagne.nonlinearities.softmax)"
   ]
  },
  {
   "cell_type": "code",
   "execution_count": 5,
   "metadata": {
    "collapsed": false
   },
   "outputs": [],
   "source": [
    "net_output = lasagne.layers.get_output(l_output)"
   ]
  },
  {
   "cell_type": "markdown",
   "metadata": {},
   "source": [
    "We believe the following code is sufficiently commented"
   ]
  },
  {
   "cell_type": "code",
   "execution_count": 6,
   "metadata": {
    "collapsed": true
   },
   "outputs": [],
   "source": [
    "# As a loss function, we'll use Lasagne's categorical_crossentropy function.\n",
    "# This allows for the network output to be class probabilities,\n",
    "# but the target output to be integers denoting the class.\n",
    "true_output = T.ivector('true_output')\n",
    "loss = T.mean(lasagne.objectives.categorical_crossentropy(net_output, true_output))"
   ]
  },
  {
   "cell_type": "code",
   "execution_count": 7,
   "metadata": {
    "collapsed": true
   },
   "outputs": [],
   "source": [
    "# Retrieving all parameters of the network is done using get_all_params,\n",
    "# which recursively collects the parameters of all layers connected to the provided layer.\n",
    "all_params = lasagne.layers.get_all_params(l_output)\n",
    "# Now, we'll generate updates using Lasagne's SGD function\n",
    "updates = lasagne.updates.sgd(loss, all_params, learning_rate=1)\n",
    "# Finally, we can compile Theano functions for training and computing the output.\n",
    "# Note that because loss depends on the input variable of our input layer,\n",
    "# we need to retrieve it and tell Theano to use it.\n",
    "train = theano.function([l_in.input_var, true_output], loss, updates=updates)\n",
    "get_output = theano.function([l_in.input_var], net_output)"
   ]
  },
  {
   "cell_type": "code",
   "execution_count": 8,
   "metadata": {
    "collapsed": false
   },
   "outputs": [
    {
     "data": {
      "text/plain": [
       "<matplotlib.text.Text at 0x7f97ed4c07d0>"
      ]
     },
     "execution_count": 8,
     "metadata": {},
     "output_type": "execute_result"
    },
    {
     "data": {
      "image/png": "[encoded data removed]",
      "text/plain": [
       "<matplotlib.figure.Figure at 0x7f97ed919090>"
      ]
     },
     "metadata": {},
     "output_type": "display_data"
    }
   ],
   "source": [
    "# Train for 100 epochs\n",
    "for n in xrange(100):\n",
    "    train(X, y)\n",
    "    \n",
    "# Compute the predicted label of the training data.\n",
    "# The argmax converts the class probability output to class label\n",
    "y_predicted = np.argmax(get_output(X), axis=1)\n",
    "# Plot incorrectly classified points as black dots\n",
    "plt.scatter(X[:, 0], X[:, 1], c=(y != y_predicted), cmap=plt.cm.gray_r)\n",
    "# Compute and display the accuracy\n",
    "plt.title(\"Accuracy: {}%\".format(100*np.mean(y == y_predicted)))"
   ]
  },
  {
   "cell_type": "markdown",
   "metadata": {
    "collapsed": true
   },
   "source": [
    "This notebook was nearly completely copy-pasted from Colin Raffel's tutorial. However, we felt that by reading the code, making sure we understood each line, and running the code to see its outputs, we gained enough of an understanding of Lasagne to use (bake?) with it in future applications."
   ]
  },
  {
   "cell_type": "code",
   "execution_count": null,
   "metadata": {
    "collapsed": true
   },
   "outputs": [],
   "source": []
  }
 ],
 "metadata": {
  "kernelspec": {
   "display_name": "Python 2",
   "language": "python",
   "name": "python2"
  },
  "language_info": {
   "codemirror_mode": {
    "name": "ipython",
    "version": 2
   },
   "file_extension": ".py",
   "mimetype": "text/x-python",
   "name": "python",
   "nbconvert_exporter": "python",
   "pygments_lexer": "ipython2",
   "version": "2.7.6"
  }
 },
 "nbformat": 4,
 "nbformat_minor": 0
}
