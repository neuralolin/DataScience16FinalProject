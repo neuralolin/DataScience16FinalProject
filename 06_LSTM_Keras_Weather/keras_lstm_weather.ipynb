{
 "cells": [
  {
   "cell_type": "code",
   "execution_count": 13,
   "metadata": {
    "collapsed": false
   },
   "outputs": [],
   "source": [
    "%matplotlib inline\n",
    "import os\n",
    "import pandas as pd\n",
    "import csv\n",
    "import numpy as np\n",
    "from keras.models import Sequential\n",
    "from keras.layers.core import Dense\n",
    "from keras.layers.recurrent import LSTM\n",
    "from keras.optimizers import RMSprop\n",
    "from keras.regularizers import l2\n",
    "import matplotlib.pyplot as plt"
   ]
  },
  {
   "cell_type": "markdown",
   "metadata": {},
   "source": [
    "Let's get our data!"
   ]
  },
  {
   "cell_type": "code",
   "execution_count": 2,
   "metadata": {
    "collapsed": false
   },
   "outputs": [],
   "source": [
    "curr_dir = os.path.dirname('__file__')\n",
    "file_path = os.path.join(curr_dir, \"temps.csv\")"
   ]
  },
  {
   "cell_type": "code",
   "execution_count": 3,
   "metadata": {
    "collapsed": false
   },
   "outputs": [],
   "source": [
    "with open(file_path, 'rb') as csvfile:\n",
    "    reader = csv.reader(csvfile)\n",
    "    data = list(reader)\n",
    "\n",
    "data = data[1:-3]\n",
    "for row in data:\n",
    "    row[1] = float(row[1].replace(\"?\", \"\"))\n",
    "df = pd.DataFrame(data, columns=['Date', 'Temperature'])\n",
    "df = pd.DataFrame(df.Temperature)"
   ]
  },
  {
   "cell_type": "markdown",
   "metadata": {},
   "source": [
    "We'd like to call attention to the create_epochs function. This function creates an array of \"epochs\", where each epoch is a \"snapshot\" of the data over a certain time-window. For example, let's say we have an `X` matrix with 10 features, with values every day for 2 years (`X` is a 730x10 matrix). We want our neural network to be able to predict the value of target `Y` (a length 730 vector) at a given day, given the previous 30 days of data. We then will feed the network a series of epochs, a 700x30x10 matrix of data (we have 700 snapshots, each 30 days long, with 10 features). The network will try to learn a 700x1 matrix (or a length 700 vector, depending on `ravel`), which contains the value of `Y` at the timestep following the training window."
   ]
  },
  {
   "cell_type": "code",
   "execution_count": 4,
   "metadata": {
    "collapsed": false
   },
   "outputs": [],
   "source": [
    "def create_epochs(data, ravel=False, n_prev=14):\n",
    "\n",
    "    docX, docY = [], []\n",
    "    for i in range(len(data)-n_prev):\n",
    "        docX.append(data.iloc[i:i+n_prev].as_matrix())\n",
    "        docY.append(data.iloc[i+n_prev].as_matrix())\n",
    "    alsX = np.array(docX)\n",
    "    alsY = np.array(docY)\n",
    "    if (ravel):\n",
    "        alsY = alsY.ravel()\n",
    "\n",
    "    return alsX, alsY\n",
    "\n",
    "def train_test_split(df, test_size=0.1):  \n",
    "    \"\"\"\n",
    "    This just splits data to training and testing parts\n",
    "    \"\"\"\n",
    "    ntrn = round(len(df) * (1 - test_size))\n",
    "    \n",
    "    X_train, y_train = create_epochs(df.iloc[0:ntrn])\n",
    "    X_test, y_test = create_epochs(df.iloc[ntrn:])\n",
    "\n",
    "    return (X_train, y_train), (X_test, y_test)"
   ]
  },
  {
   "cell_type": "code",
   "execution_count": 5,
   "metadata": {
    "collapsed": false
   },
   "outputs": [
    {
     "name": "stderr",
     "output_type": "stream",
     "text": [
      "/usr/local/lib/python2.7/dist-packages/ipykernel/__main__.py:20: FutureWarning: slice indexers when using iloc should be integers and not floating point\n",
      "/usr/local/lib/python2.7/dist-packages/ipykernel/__main__.py:21: FutureWarning: slice indexers when using iloc should be integers and not floating point\n"
     ]
    }
   ],
   "source": [
    "(X_train, y_train), (X_test, y_test) = train_test_split(df)  # retrieve data"
   ]
  },
  {
   "cell_type": "markdown",
   "metadata": {},
   "source": [
    "This is where the Keras starts. Basically, Keras is a wrapper on top of Theano, similar to Lasagne, that abstracts out a lot of the complicated symbolic math programming you have to do. All we have to do is create a `Sequential` mode, and then add layers to it. In this case, we use an LSTM hidden layer with 10 neurons, and then a single neuron output layer (Keras calls these `Dense` layers. They're just your basic linear-weighted layer with an optional activation).\n",
    "\n",
    "One thing to note is that we did not apply an activation function to our output layer. This means that the output is simply a linear combination of the hidden layer's activities. You can see how this allows the output to take on any value (since the weights can be anything). This is because we don't really know the range of possible temperatures for the weather (or at least, we can't come up with definitive boundaries). If we were to apply, say, a tanh to our output, our network would only be able to guess temperatures between -1 to 1."
   ]
  },
  {
   "cell_type": "markdown",
   "metadata": {},
   "source": [
    "Another cool thing we did is parameter tuning and regularization. As discussed earlier (like, way earlier), regularizing our networks weights can help overfitting. We try 9 combinations for 3 different regularization parameters for the synapses between the input and hidden, and the hidden and output, to determine the best combination."
   ]
  },
  {
   "cell_type": "code",
   "execution_count": 6,
   "metadata": {
    "collapsed": false
   },
   "outputs": [
    {
     "name": "stdout",
     "output_type": "stream",
     "text": [
      "RMSE for l2 of 0.10, 0.01: 15.31. This is currently the best model!\n",
      "RMSE for l2 of 0.10, 0.10: 14.53. This is currently the best model!\n",
      "RMSE for l2 of 0.10, 1.00: 20.14\n",
      "RMSE for l2 of 1.00, 0.01: 13.93. This is currently the best model!\n",
      "RMSE for l2 of 1.00, 0.10: 13.35. This is currently the best model!\n",
      "RMSE for l2 of 1.00, 1.00: 19.55\n",
      "RMSE for l2 of 10.00, 0.01: 19.12\n",
      "RMSE for l2 of 10.00, 0.10: 15.10\n",
      "RMSE for l2 of 10.00, 1.00: 23.49\n"
     ]
    },
    {
     "name": "stderr",
     "output_type": "stream",
     "text": [
      "/usr/local/lib/python2.7/dist-packages/keras/backend/theano_backend.py:489: UserWarning: theano.function was asked to create a function computing outputs given certain inputs, but the provided input variable at index 1 is not part of the computational graph needed to compute the outputs: keras_learning_phase.\n",
      "To make this warning into an error, you can pass the parameter on_unused_input='raise' to theano.function. To disable it completely, use on_unused_input='ignore'.\n",
      "  **kwargs)\n"
     ]
    }
   ],
   "source": [
    "in_out_neurons = 1  \n",
    "hidden_neurons = 10\n",
    "\n",
    "l2_possibilities_1 = np.logspace(-1, 1, 3)\n",
    "l2_possibilities_2 = np.logspace(-2, 0, 3)\n",
    "\n",
    "costs = []\n",
    "\n",
    "best_model = None\n",
    "best_score = 1000\n",
    "\n",
    "for val_1 in l2_possibilities_1:\n",
    "    temp = []\n",
    "    for val_2 in l2_possibilities_2:\n",
    "        model = Sequential()\n",
    "        model.add(LSTM(hidden_neurons, input_dim=in_out_neurons, W_regularizer=l2(val_1), activation='tanh'))\n",
    "        model.add(Dense(1, W_regularizer=l2(val_2)))\n",
    "        model.compile(loss=\"mean_squared_error\", optimizer=RMSprop(lr=.01))\n",
    "        model.fit(X_train, y_train, nb_epoch=10, verbose=0)\n",
    "        predicted = model.predict(X_test)\n",
    "        rmse = ((predicted - y_test) ** 2).mean(axis=0)\n",
    "        if (rmse < best_score):\n",
    "            best_score = rmse\n",
    "            best_model = model\n",
    "            print \"RMSE for l2 of %0.2f, %0.2f: %0.2f. This is currently the best model!\" % (val_1, val_2, rmse)\n",
    "        else:\n",
    "            print \"RMSE for l2 of %0.2f, %0.2f: %0.2f\" % (val_1, val_2, rmse)\n",
    "        temp.append(rmse)\n",
    "    costs.append(temp)"
   ]
  },
  {
   "cell_type": "code",
   "execution_count": 14,
   "metadata": {
    "collapsed": false
   },
   "outputs": [
    {
     "data": {
      "text/plain": [
       "<matplotlib.legend.Legend at 0x7f72a07b5f50>"
      ]
     },
     "execution_count": 14,
     "metadata": {},
     "output_type": "execute_result"
    },
    {
     "data": {
      "image/png": "[encoded data removed]",
      "text/plain": [
       "<matplotlib.figure.Figure at 0x7f72a07b5610>"
      ]
     },
     "metadata": {},
     "output_type": "display_data"
    }
   ],
   "source": [
    "for c, l in zip(costs, l2_possibilities_1):\n",
    "    plt.semilogx(l2_possibilities_2, c, label=\"hidden reg = %0.2f\" % l)\n",
    "plt.xlabel('output reg')\n",
    "plt.ylabel('RMSE')\n",
    "    \n",
    "plt.gcf().set_size_inches(8, 8)\n",
    "    \n",
    "plt.legend()"
   ]
  },
  {
   "cell_type": "markdown",
   "metadata": {},
   "source": [
    "A cool trend! The combination of 1.0, 0.1 parameters for the hidden and output layers seems to be pretty good."
   ]
  },
  {
   "cell_type": "markdown",
   "metadata": {},
   "source": [
    "Here's our model's results! We compare it to the a baseline model, which just predicts the previous temperature it saw. A small improvement, but an improvement nonetheless."
   ]
  },
  {
   "cell_type": "code",
   "execution_count": 8,
   "metadata": {
    "collapsed": false
   },
   "outputs": [
    {
     "name": "stdout",
     "output_type": "stream",
     "text": [
      "Error on test set: 13.3\n",
      "Previous day error: 14.7\n"
     ]
    }
   ],
   "source": [
    "predicted = best_model.predict(X_test)\n",
    "print \"Error on test set: %.1f\" % ((best_model.predict(X_test) - y_test) ** 2).mean()\n",
    "print \"Previous day error: %.1f\" % ((X_test[:, -1, :] - y_test) ** 2).mean()"
   ]
  },
  {
   "cell_type": "markdown",
   "metadata": {},
   "source": [
    "And, just because we like visualizations, check out the models predictions! It has an interesting (and expected) lag, where its always a day behind the real weather. This is likely because, generally speaking, the model is not sure about the direction the weather will swing, and predicts something close to the previous day's data. The small swings it does predict do seem to improve accuracy, though."
   ]
  },
  {
   "cell_type": "code",
   "execution_count": 16,
   "metadata": {
    "collapsed": false
   },
   "outputs": [
    {
     "data": {
      "text/plain": [
       "<matplotlib.legend.Legend at 0x7f72a47b0ed0>"
      ]
     },
     "execution_count": 16,
     "metadata": {},
     "output_type": "execute_result"
    },
    {
     "data": {
      "image/png": "[encoded data removed]",
      "text/plain": [
       "<matplotlib.figure.Figure at 0x7f72a1e57f90>"
      ]
     },
     "metadata": {},
     "output_type": "display_data"
    }
   ],
   "source": [
    "predicted = best_model.predict(X_test)\n",
    "plt.plot(pd.DataFrame(predicted)[40:60])\n",
    "plt.plot(pd.DataFrame(y_test)[40:60])\n",
    "plt.legend(['pred', 'actual'])"
   ]
  },
  {
   "cell_type": "code",
   "execution_count": null,
   "metadata": {
    "collapsed": true
   },
   "outputs": [],
   "source": []
  }
 ],
 "metadata": {
  "kernelspec": {
   "display_name": "Python 2",
   "language": "python",
   "name": "python2"
  },
  "language_info": {
   "codemirror_mode": {
    "name": "ipython",
    "version": 2
   },
   "file_extension": ".py",
   "mimetype": "text/x-python",
   "name": "python",
   "nbconvert_exporter": "python",
   "pygments_lexer": "ipython2",
   "version": "2.7.6"
  }
 },
 "nbformat": 4,
 "nbformat_minor": 0
}
