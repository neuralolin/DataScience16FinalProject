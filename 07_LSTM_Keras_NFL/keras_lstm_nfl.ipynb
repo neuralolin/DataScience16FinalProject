{
 "cells": [
  {
   "cell_type": "code",
   "execution_count": 1,
   "metadata": {
    "collapsed": false
   },
   "outputs": [
    {
     "name": "stderr",
     "output_type": "stream",
     "text": [
      "Using Theano backend.\n"
     ]
    }
   ],
   "source": [
    "import os\n",
    "import json\n",
    "from pprint import pprint\n",
    "import pandas as pd\n",
    "import numpy as np\n",
    "from keras.models import Sequential\n",
    "from keras.layers.core import Dense\n",
    "from keras.layers.recurrent import LSTM, SimpleRNN\n",
    "from keras.optimizers import RMSprop"
   ]
  },
  {
   "cell_type": "code",
   "execution_count": 2,
   "metadata": {
    "collapsed": false
   },
   "outputs": [],
   "source": [
    "curr_dir = os.path.dirname('__file__')\n",
    "folder = os.path.join(curr_dir, \"season_data\")"
   ]
  },
  {
   "cell_type": "code",
   "execution_count": 3,
   "metadata": {
    "collapsed": false
   },
   "outputs": [],
   "source": [
    "years = range(2000, 2016)\n",
    "features = {'row': [], 'year': [], 'week': []}\n",
    "for year in years:\n",
    "    fn = 'output_%i.json' % year\n",
    "    with open(os.path.join(folder, fn)) as f:\n",
    "        data = json.load(f)\n",
    "    for game in data:\n",
    "        team = 'home'\n",
    "        opponent = {'home': 'away', 'away': 'home'}[team]\n",
    "        naming = {team: 'home_', opponent: 'away_'}\n",
    "        features['row'].append(game['row'])\n",
    "        features['year'].append(year)\n",
    "        features['week'].append(game['week'])\n",
    "        for _team in ['home', 'away']:\n",
    "            for stat in game[_team]:\n",
    "                stat_name = naming[_team] + stat\n",
    "                if stat_name not in features:\n",
    "                    features[stat_name] = []\n",
    "                features[stat_name].append(game[_team][stat])"
   ]
  },
  {
   "cell_type": "code",
   "execution_count": 12,
   "metadata": {
    "collapsed": false
   },
   "outputs": [],
   "source": [
    "df = pd.DataFrame(features).sort_values(['year', 'row']).reset_index(drop=True)\n",
    "df['margin_victory'] = df.home_pts - df.away_pts\n",
    "df['win'] = df.margin_victory >= 0\n",
    "all_features = [c.replace(\"away_\", \"\").replace(\"home_\", \"\") for c in df.columns]\n",
    "all_features = list(set(all_features))"
   ]
  },
  {
   "cell_type": "code",
   "execution_count": 16,
   "metadata": {
    "collapsed": false
   },
   "outputs": [
    {
     "data": {
      "text/plain": [
       "[u'penalties_yds',\n",
       " 'margin_victory',\n",
       " u'first_downs',\n",
       " u'penalties',\n",
       " u'pass_comp',\n",
       " u'pass_att',\n",
       " u'pts',\n",
       " u'rush_yds',\n",
       " u'pass_td',\n",
       " u'fourth_down_att',\n",
       " u'rush_att',\n",
       " u'pass_yds',\n",
       " u'sacked_yds',\n",
       " u'fourth_down_conv',\n",
       " u'pass_int',\n",
       " u'time_of_pos',\n",
       " u'rush_tds',\n",
       " u'sacked',\n",
       " u'turnovers',\n",
       " u'third_down_conv',\n",
       " u'third_down_att',\n",
       " u'fum_lost',\n",
       " u'fum']"
      ]
     },
     "execution_count": 16,
     "metadata": {},
     "output_type": "execute_result"
    }
   ],
   "source": [
    "learning_features = [f for f in all_features if f not in ['win', 'year', 'row', 'week', 'name']]\n",
    "learning_features"
   ]
  },
  {
   "cell_type": "code",
   "execution_count": null,
   "metadata": {
    "collapsed": false
   },
   "outputs": [],
   "source": [
    "def get_epochs(df, n_prev, target, features=None):\n",
    "    \"\"\"\n",
    "    Used to shuffle the dataset at each iteration.\n",
    "    \"\"\"\n",
    "    \n",
    "    if features is None:\n",
    "        features = df.drop(target).columns.tolist()\n",
    "    \n",
    "    docX, docY = [], []\n",
    "    indices = []\n",
    "    for i in range(len(df)-n_prev):\n",
    "        docX.append(df[features].iloc[i:i+n_prev].as_matrix())\n",
    "        docY.append(df[target].iloc[i+n_prev])\n",
    "        indices.append(df.index[i+n_prev])\n",
    "    alsX = np.array(docX)\n",
    "    alsY = np.array(docY)\n",
    "#     if (ravel):\n",
    "#         alsY = alsY.ravel()\n",
    "\n",
    "    return alsX, alsY, indices\n",
    "\n",
    "def reorder_array(arr, indices):\n",
    "    zipped = zip(arr, indices)\n",
    "    zipped_sort = sorted(zipped, key=lambda x: x[1])\n",
    "    return np.array([elem[0] for elem in zipped_sort])\n",
    "\n",
    "def preprocess_array(arr):\n",
    "    pass\n",
    "\n",
    "def train_test_split(X, y, test_size=0.1, recenter=False):  \n",
    "    \"\"\"\n",
    "    This just splits data to training and testing parts\n",
    "    \"\"\"\n",
    "    ntrn = int(round(len(X) * (1 - test_size)))\n",
    "    X_train = X[0:ntrn]\n",
    "    y_train = y[0:ntrn]    \n",
    "    X_test = X[ntrn:]\n",
    "    y_test = y[ntrn:]\n",
    "    \n",
    "    if (recenter):\n",
    "        X_train -= X_train.mean(axis=(0,1))\n",
    "        X_test = X_train.mean(axis=(0,1))\n",
    "        y_train -= y_train.mean()\n",
    "        y_test -= y_train.mean()\n",
    "        \n",
    "    return (X_train, y_train), (X_test, y_test)"
   ]
  },
  {
   "cell_type": "code",
   "execution_count": null,
   "metadata": {
    "collapsed": false
   },
   "outputs": [],
   "source": [
    "def reorder_array(arr, indices):\n",
    "    zipped = zip(arr, indices)\n",
    "    zipped_sort = sorted(zipped, key=lambda x: x[1])\n",
    "    return np.array([elem[0] for elem in zipped_sort])"
   ]
  },
  {
   "cell_type": "code",
   "execution_count": null,
   "metadata": {
    "collapsed": false
   },
   "outputs": [],
   "source": [
    "team_dfs = [group for name, group in df.groupby('my_name')]\n",
    "features = ['margin_victory']\n",
    "# features = df.drop(['my_name', 'opp_name', 'row', 'week', 'year'], axis=1).columns.tolist()\n",
    "target = 'win'\n",
    "reindexer = []\n",
    "X = None\n",
    "y = None\n",
    "for team_df in team_dfs:\n",
    "    x1, y1, indices = get_epochs(team_df, 16, target, features=features)\n",
    "    if X is None or y is None:\n",
    "        X = x1\n",
    "        y = y1\n",
    "    else:\n",
    "        X = np.append(X, x1, axis=0)\n",
    "        y = np.append(y, y1, axis=0)\n",
    "    reindexer += indices\n",
    "X = reorder_array(X, reindexer)\n",
    "y = reorder_array(y, reindexer)"
   ]
  },
  {
   "cell_type": "code",
   "execution_count": null,
   "metadata": {
    "collapsed": false
   },
   "outputs": [],
   "source": [
    "(X_train, y_train), (X_test, y_test) = train_test_split(X, y, test_size=0.3)  # retrieve data"
   ]
  },
  {
   "cell_type": "code",
   "execution_count": null,
   "metadata": {
    "collapsed": false
   },
   "outputs": [],
   "source": [
    "print X.shape"
   ]
  },
  {
   "cell_type": "code",
   "execution_count": null,
   "metadata": {
    "collapsed": false
   },
   "outputs": [],
   "source": [
    "hidden_neurons = 10\n",
    "model = Sequential()\n",
    "model.add(SimpleRNN(hidden_neurons, input_dim=X_train.shape[-1], activation='tanh'))\n",
    "model.add(Dense(1, activation='tanh'))\n",
    "model.compile(loss=\"mean_squared_error\", optimizer=RMSprop())\n",
    "model.fit(X_train, y_train, nb_epoch=10)"
   ]
  },
  {
   "cell_type": "code",
   "execution_count": null,
   "metadata": {
    "collapsed": true
   },
   "outputs": [],
   "source": [
    "predicted = model.predict(X_test)"
   ]
  },
  {
   "cell_type": "code",
   "execution_count": null,
   "metadata": {
    "collapsed": false
   },
   "outputs": [],
   "source": [
    "print predicted[40:50]"
   ]
  },
  {
   "cell_type": "code",
   "execution_count": null,
   "metadata": {
    "collapsed": false
   },
   "outputs": [],
   "source": [
    "predicted = model.predict(X_test)\n",
    "print \"Error on train set: %.2f\" % ((model.predict(X_train) > 0.5 == y_train).mean())\n",
    "print \"Error on test set: %.2f\" % ((model.predict(X_test) > 0.5 == y_test).mean())\n",
    "print \"Previous day error: %.2f\" % ((.5 - y_test) ** 2).mean()"
   ]
  },
  {
   "cell_type": "code",
   "execution_count": null,
   "metadata": {
    "collapsed": false
   },
   "outputs": [],
   "source": [
    "df\n"
   ]
  },
  {
   "cell_type": "code",
   "execution_count": null,
   "metadata": {
    "collapsed": true
   },
   "outputs": [],
   "source": []
  }
 ],
 "metadata": {
  "kernelspec": {
   "display_name": "Python 2",
   "language": "python",
   "name": "python2"
  },
  "language_info": {
   "codemirror_mode": {
    "name": "ipython",
    "version": 2
   },
   "file_extension": ".py",
   "mimetype": "text/x-python",
   "name": "python",
   "nbconvert_exporter": "python",
   "pygments_lexer": "ipython2",
   "version": "2.7.6"
  }
 },
 "nbformat": 4,
 "nbformat_minor": 0
}
